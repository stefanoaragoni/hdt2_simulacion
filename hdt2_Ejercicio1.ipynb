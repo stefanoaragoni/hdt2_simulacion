{
 "cells": [
  {
   "cell_type": "markdown",
   "metadata": {},
   "source": [
    "## Hoja de Trabajo 2 - Modelación y Simulación\n",
    "\n",
    "Stefano Aragoni, Carol Arévalo\n",
    "\n",
    "------------"
   ]
  },
  {
   "cell_type": "markdown",
   "metadata": {},
   "source": [
    "## Ejercicio 1 - Preguntas Teóricas"
   ]
  },
  {
   "cell_type": "markdown",
   "metadata": {},
   "source": [
    "### Ejercicio 1.1\n",
    "\n",
    "Investigue y responda a las siguientes preguntas"
   ]
  },
  {
   "cell_type": "markdown",
   "metadata": {},
   "source": [
    "1. **¿Cómo definiría “Programación Lineal”?**\n",
    "\n",
    "La \"Programación Lineal\" es una técnica matemática de modelación que se utiliza para optimizar (maximizar o minimizar) una función lineal que está sujeta a restricciones lineales. Cabe destacar que dichas restricciones son igualdades o desigualdades lineales.\n",
    "\n",
    "Esta técnica se utiliza para tomar decisiones óptimas; por ejemplo, para encontrar la mejor manera de asignar recursos. Esto es especialmente útil en diversas industrias, como la fabricación, el transporte, las finanzas, etc..\n",
    "\n",
    "Asimismo, según Luca Trevisan (Stanford University, 2011), el término 'programación' no se refiere a la programación de computadoras, sino a la programación de actividades, es decir, a la planificación de actividades.\n",
    "\n",
    "Referencias: \n",
    "- https://math.mit.edu/~goemans/18310S15/lpnotes310.pdf\n",
    "- https://www.britannica.com/science/linear-programming-mathematics\n",
    "- https://theory.stanford.edu/~trevisan/cs261/lecture05.pdf"
   ]
  },
  {
   "cell_type": "markdown",
   "metadata": {},
   "source": [
    "2. **¿Cuáles son los escenarios típicos y los problemas del mundo real que se pueden modelar mediante la programación lineal?**\n",
    "\n",
    "Algunos escenarios y problemas del mundo real que se pueden modelar mediante la programación lineal son:\n",
    "\n",
    "- Cadena de Suministro (Chain Suppy): Determinar cómo asignar regursos, como materias primas, mano de obra, etc. para maximizar las ganancias. Determinar las rutas de transporte para minimizar los costos de transporte. Determinar la cantidad de productos a producir para maximizar las ganancias.\n",
    "\n",
    "- Asignación de Recursos: Determinar los minimos recursos necesarios para producir una cantidad de productos o servicios, maximizando las ganancias.\n",
    "\n",
    "- Optimización de Rutas: Determinar la ruta más corta para llegar de un punto a otro, minimizando el tiempo de viaje y/o los costos de transporte.\n",
    "\n",
    "- Optimización de Inversiones: Determinar la mejor combinación de inversiones para maximizar las ganancias.\n",
    "\n",
    "- Industria de Energía: Determinar métodos para maximizar la producción de energía, minimizando los costos de producción.\n",
    "\n",
    "- Planificación de Proyectos: Determinar la mejor combinación de recursos para completar un proyecto, minimizando los costos de producción. Programar las actividades de un proyecto para minimizar el tiempo de ejecución.\n",
    "\n",
    "Sin embargo, cabe destacar que se puede utilizar la programación lineal para resolver cualquier problema de optimización que se pueda modelar como un sistema de ecuaciones lineales.\n",
    "\n",
    "Referencias:\n",
    "- https://sciencing.com/five-application-linear-programming-techniques-7789072.html\n",
    "- https://www.digitalvidya.com/blog/linear-programming-and-its-uses/"
   ]
  },
  {
   "cell_type": "markdown",
   "metadata": {},
   "source": [
    "3. **¿Cómo contribuye la programación lineal a la toma de decisiones en diversas industrias, como la fabricación, el transporte, las finanzas y la asignación de recursos?**\n",
    "\n",
    "La programación lineal es una herramienta que permite resolver problemas de optimización. Por tal razón, en todas estas industrias se impelementa con el proósito de poder optimizar (minimizar o maximizar) el uso de recursos, ganacias, etc..\n",
    "\n",
    "Más específicamente, la programación lineal contribuye de la siguiente forma:\n",
    "\n",
    "- Industria de la fabricación: permite optimizar el uso de recursos, como la mano de obra, la maquinaria, y materiales, para poder maximizar la producción y minimizar los costos. De esta forma, se puede maximizar las ganancias y la eficiencia.\n",
    "\n",
    "- Industria del transporte: permite optimizar las rutas de transporte para poder minimizar los costos de transporte (incluyendo gasolina, tiempo, etc..). De esta forma, se puede maximizar las ganancias y la eficiencia.\n",
    "\n",
    "- Industria de las finanzas: permite maximizar las ganacias a través de la optimización de la asignación de recursos. Asimismo, permite tomar en consideración los riesgos asociados a las inversiones. De esta forma, se puede minimizar los riesgos y maximizar las ganancias.\n",
    "\n",
    "- Asignación de recursos: permite minimizar recursos necesarios para producir una cantidad de productos o servicios, maximizando las ganancias.\n",
    "\n",
    "Referencias:\n",
    "- https://www.digitalvidya.com/blog/linear-programming-and-its-uses/\n",
    "- https://math.libretexts.org/Bookshelves/Applied_Mathematics/Applied_Finite_Mathematics_(Sekhon_and_Bloom)/04%3A_Linear_Programming_The_Simplex_Method/4.01%3A_Introduction_to_Linear_Programming_Applications_in_Business_Finance_Medicine_and_Social_Science"
   ]
  },
  {
   "cell_type": "markdown",
   "metadata": {},
   "source": [
    "### Ejercicio 1.2\n",
    "Investigue y responda a las siguientes preguntas"
   ]
  },
  {
   "cell_type": "markdown",
   "metadata": {},
   "source": [
    "1. **¿Cómo definiría los componentes clave de un problema de programación lineal: función objetivo, variables de decisión y restricciones?**\n",
    "\n",
    "La *función objetivo* es la función matemática que se desea optimizar. Esta es la función que representa el problema, y varía según los valores de las variables de decisión. \n",
    "\n",
    "Las *variables de decisión* son las variables que pueden optimizar la función objetivo. Estos valores son desconocidos, por lo cual se debe probar con diferentes valores para encontrar el óptimo.\n",
    "\n",
    "Las *restricciones* son las limitaciones que deben cumplir las variables de decisión. Estas limitaciones pueden ser de tipo lineal o no lineal, y normalmente representan las limitaciones de los recursos disponibles.\n",
    "\n",
    "Referencias:\n",
    "- https://www.techopedia.com/definition/20403/linear-programming-lp#:~:text=The%20basic%20components%20of%20linear%20programming%20are%20as,relationships%20between%20the%20objective%20function%20and%20the%20constraints."
   ]
  },
  {
   "cell_type": "markdown",
   "metadata": {},
   "source": [
    "2. **¿Cómo se formula matemáticamente un problema de programación lineal?**\n",
    "\n",
    "Un problema de programación lineal se formula de la siguiente manera:\n",
    "\n",
    "1. Se eligen las variables o incógnitas que representan las decisiones a tomar.\n",
    "    - x_1, x_2 ... x_n\n",
    "2. Se escribe la función objetivo, que es una expresión lineal que se quiere maximizar o minimizar. \n",
    "    - Dado f(x_1,x_2 ... x_n), maximizar c1 * x_1 + x2 * x_2 + cn * x_n o minimizar c1 * x_1 + x2 * x_2 + cn * x_n \n",
    "3. Se escriben las restricciones, que son inecuaciones lineales que limitan los valores de las variables.\n",
    "    - A1 * X_1 + A2 * x_2 + An * X_n >= B1\n",
    "\n",
    "\n",
    "\n",
    "Por ejemplo si se quieren maximizar las ganancias de una empresa:\n",
    "1. Variables: x_1 = Numero de productos a fabricas en un mes\n",
    "2. Funcion objetivo: Maximizar ganancias de Z: Z = Ganancias_por_producto * x_1\n",
    "3. Restricciones> x <= 100 (capacidad de produccion)\n",
    "\n",
    "Referencias:\n",
    "- https://www.questionpro.com/blog/es/programacion-lineal/\n",
    "- https://www.plandemejora.com/como-plantear-un-problema-de-programacion-lineal/\n",
    "- https://respuestasrapidas.com.mx/como-formular-un-problema-de-programacion-lineal/"
   ]
  },
  {
   "cell_type": "markdown",
   "metadata": {},
   "source": [
    "3. **¿Cuál es la interpretación geométrica de un problema de programación lineal en dos dimensiones?**\n",
    "\n",
    "- Variables y Ejes Coordenados:\n",
    "Cada variable del problema se representa como un eje coordenado en el plano. Por ejemplo, se tienen dos variables \n",
    "x, y se trendran dos ejes. \n",
    "\n",
    "- Restricciones:\n",
    "Cada restricción del problema se representa como una recta o una semirrecta que divide el plano en dos regiones: la región factible y la región no factible. Por ejemplo, si tienes la restricción 2x+3y≤12, se traza la línea correspondiente 2x+3y=12 en el plano.\n",
    "\n",
    "- Región Factible:\n",
    "Es la intersección de todas las regiones limitadas por las restricciones crea un polígono (o una región) en el plano. Esta región es la región factible, que contiene los puntos que cumplen todas las restricciones simultáneamente.\n",
    "\n",
    "- Función Objetivo:\n",
    "La función objetivo se representa como una línea con una pendiente dada en el plano. Al maximizar (o minimizar) la función objetivo, esta línea se moverá paralelamente a sí misma en dirección a la optimización.\n",
    "\n",
    "- Punto Óptimo:\n",
    "El punto donde la línea de la función objetivo toca el borde de la región factible es el punto óptimo. Si se está maximizando, será el punto más alejado en la dirección de la función objetivo. Si se está minimizando, será el punto más cercano en esa dirección.\n",
    "\n",
    "- Solución Óptima:\n",
    "Las coordenadas del punto óptimo representan los valores de las variables que maximizan (o minimizan) la función objetivo bajo las restricciones dadas.\n",
    "\n",
    "Referencias:\n",
    "- https://www.monografias.com/trabajos107/programacion-lineal-inecuaciones/programacion-lineal-inecuaciones\n",
    "- https://juanferlopez.es/matggb/prog_lineal/sistemas_de_inecuaciones_interpretacin_geomtrica.html\n"
   ]
  },
  {
   "cell_type": "markdown",
   "metadata": {},
   "source": [
    "4. **¿Cómo se relacionan las regiones factibles, las soluciones óptimas y los puntos de esquina en la programación lineal?**\n",
    "\n",
    "- La region factible es la intersección de todas las regiones limitadas por las restricciones crea un polígono (o una región) en el plano\n",
    "- La solución óptima es el punto de la región factible que maximiza o minimiza la función objetivo. \n",
    "- Los puntos de esquina son los vértices o esquinas de la región factible, donde se intersectan dos o más restricciones.\n",
    "\n",
    "\n",
    "Existe un teroram llamado \"El teorema fundamental de la programación lineal\" que si un problema tiene solución óptima, esta solución debe encontrarse en uno de los puntos de esquina (vértices) de la región factible. Esto significa que no es necesario explorar el interior de la región factible para buscar la solución óptima. Se puede encontrar evaluando la función objetivo en cada punto de esquina y seleccionando el que maximiza o minimiza el valor.\n",
    "\n",
    "Referencias:\n",
    "\n",
    "https://www.gestiondeoperaciones.net/programacion_lineal/teorema-fundamental-de-la-programacion-lineal-y-sus-propiedades/\n",
    "http://recursostic.educacion.es/descartes/web/materiales_didacticos/prog_lineal_lbc/solucion_pl.htm\n"
   ]
  },
  {
   "cell_type": "markdown",
   "metadata": {},
   "source": [
    "5. **¿Qué es el método gráfico y cuándo es adecuado para resolver problemas de programación lineal?**\n",
    "\n",
    "El método gráfico es una técnica que permite resolver los problemas de programación lineal de manera intuitiva y visual. Pasos a seguir:\n",
    "\n",
    "\n",
    "1. Representar geométricamente las restricciones del problema como rectas o semirrectas que dividen el plano en regiones factibles y no factibles.\n",
    "\n",
    "2. Encontrar la región factible como el conjunto de puntos que cumplen todas las restricciones del problema.\n",
    "\n",
    "3. Trazar la función objetivo como una recta que se mueve paralelamente a sí misma hasta alcanzar el punto óptimo, que es el punto de la región factible que maximiza o minimiza la función objetivo.\n",
    "\n",
    "\n",
    "El método gráfico es muy útil para problemas de dos variables de decisión. También se puede utilizar en ejercicios de 3 variables; sin embargo, se hace más difícil visualizar la representación gráfica. Debido a la imposibilidad de ilustrar más de tres dimensiones no se puede utilizar para problemas de más de tres variables\n",
    "\n",
    "Referencias:\n",
    "- https://www.plandemejora.com/como-resolver-problemas-de-programacion-lineal-por-el-metodo-grafico/\n",
    "- https://www.gestiondeoperaciones.net/programacion_lineal/programacion-lineal-metodo-grafico/\n"
   ]
  }
 ],
 "metadata": {
  "kernelspec": {
   "display_name": "Python 3",
   "language": "python",
   "name": "python3"
  },
  "language_info": {
   "codemirror_mode": {
    "name": "ipython",
    "version": 3
   },
   "file_extension": ".py",
   "mimetype": "text/x-python",
   "name": "python",
   "nbconvert_exporter": "python",
   "pygments_lexer": "ipython3",
   "version": "3.9.2"
  },
  "orig_nbformat": 4
 },
 "nbformat": 4,
 "nbformat_minor": 2
}
